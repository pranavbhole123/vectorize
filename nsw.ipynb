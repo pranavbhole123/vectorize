{
 "cells": [
  {
   "cell_type": "code",
   "execution_count": 191,
   "metadata": {},
   "outputs": [],
   "source": [
    "import numpy as np\n",
    "import random\n",
    "#global parameters\n",
    "# m is the total number of friends you want to associate a node with\n",
    "m=2\n",
    "graph = {}\n",
    "dim = 3\n",
    "length=5 #length of the data"
   ]
  },
  {
   "cell_type": "code",
   "execution_count": 192,
   "metadata": {},
   "outputs": [],
   "source": [
    "def distance_squared(point1, point2):\n",
    "    n = len(point1)\n",
    "    sum = 0\n",
    "    for i in range(n):\n",
    "        sum += (point1[i] - point2[i]) * (point1[i] - point2[i])\n",
    "    return sum\n",
    "\n",
    "def m_neighbours(point1, graph):\n",
    "    n = len(graph)\n",
    "    d = {}\n",
    "    for i in range(n):\n",
    "        temp = distance_squared(graph[i], point1)\n",
    "        d[tuple(graph[i])] = temp  # Convert the list to a tuple\n",
    "        \n",
    "    sorted_d = dict(sorted(d.items(), key=lambda item: item[1]))\n",
    "    if m<len(sorted_d):\n",
    "        first_m_elements = dict(list(sorted_d.items())[1:m+1])\n",
    "\n",
    "    else:\n",
    "        first_m_elements = sorted_d\n",
    "    return first_m_elements\n",
    "\n",
    "def create_graph(data):\n",
    "    \n",
    "    n=len(data)\n",
    "    for i in range(n):\n",
    "        m_ne=m_neighbours(data[i],data)\n",
    "        for key in m_ne:\n",
    "            #print(key)\n",
    "            if key not in graph[tuple(data[i])]:\n",
    "                graph[tuple(data[i])].append(key)\n",
    "            if tuple(data[i]) not in graph[tuple(key)]:\n",
    "                graph[tuple(key)].append(tuple(data[i]))\n",
    "\n",
    "    return graph\n",
    "\n",
    "def closest_pt(graph,data,query):\n",
    "    start = data[random.randint(0 , len(data)-1)]\n",
    "    print(start)\n",
    "    prev =9999999999999999999\n",
    "    current=distance_squared(start,query)\n",
    "    miny = distance_squared(start,query)\n",
    "    temp=None\n",
    "    \n",
    "    while current<=prev:\n",
    "        flag=0\n",
    "        \n",
    "        for vector in graph[tuple(start)]:\n",
    "            if distance_squared(list(vector),query)<miny:\n",
    "                flag=1\n",
    "                print(\"!!!!!!!!!!\",distance_squared(list(vector),query))\n",
    "                miny = distance_squared(list(vector),query)\n",
    "                #print(miny)\n",
    "                temp = list(vector)\n",
    "            \n",
    "        print(temp,\"!!!!!!!\")\n",
    "        if flag==0:\n",
    "            break\n",
    "        \n",
    "        \n",
    "        start = temp\n",
    "     \n",
    "        prev=current\n",
    "        current = distance_squared(query,start)\n",
    "    return start,miny\n",
    "\n",
    "\n"
   ]
  },
  {
   "cell_type": "code",
   "execution_count": 193,
   "metadata": {},
   "outputs": [],
   "source": [
    "def generate_matrix(k):\n",
    "    # Create a matrix with 1000 rows and k columns\n",
    "    matrix = [[np.random.uniform(-1000, 1000) for _ in range(k)] for _ in range(length)]  #length of the data\n",
    "    return matrix\n",
    "\n",
    "\n",
    "# Example: generate a matrix with 5 columns\n",
    "result_matrix = generate_matrix(dim)\n"
   ]
  },
  {
   "cell_type": "code",
   "execution_count": 194,
   "metadata": {},
   "outputs": [
    {
     "name": "stdout",
     "output_type": "stream",
     "text": [
      "{(-848.8293575314588, -299.9093521832334, -550.0538897422975): [(289.5327226747863, -192.77443042712775, -509.1102136164627), (-585.7479379526828, -435.56150273980893, 670.090803936153), (907.4825483834, 295.312395482734, -644.4567607566523)], (704.6402576341982, -946.8862813365921, 870.8721499781527): [(-585.7479379526828, -435.56150273980893, 670.090803936153), (289.5327226747863, -192.77443042712775, -509.1102136164627)], (289.5327226747863, -192.77443042712775, -509.1102136164627): [(-848.8293575314588, -299.9093521832334, -550.0538897422975), (704.6402576341982, -946.8862813365921, 870.8721499781527), (907.4825483834, 295.312395482734, -644.4567607566523)], (-585.7479379526828, -435.56150273980893, 670.090803936153): [(-848.8293575314588, -299.9093521832334, -550.0538897422975), (704.6402576341982, -946.8862813365921, 870.8721499781527)], (907.4825483834, 295.312395482734, -644.4567607566523): [(289.5327226747863, -192.77443042712775, -509.1102136164627), (-848.8293575314588, -299.9093521832334, -550.0538897422975)]}\n"
     ]
    }
   ],
   "source": [
    "for i in range(length):\n",
    "    graph[tuple(result_matrix[i])]=[]\n",
    "graph=create_graph(result_matrix)\n",
    "print(graph)"
   ]
  },
  {
   "cell_type": "code",
   "execution_count": 198,
   "metadata": {},
   "outputs": [
    {
     "name": "stdout",
     "output_type": "stream",
     "text": [
      "{(-848.8293575314588, -299.9093521832334, -550.0538897422975): [(289.5327226747863, -192.77443042712775, -509.1102136164627), (-585.7479379526828, -435.56150273980893, 670.090803936153), (907.4825483834, 295.312395482734, -644.4567607566523)], (704.6402576341982, -946.8862813365921, 870.8721499781527): [(-585.7479379526828, -435.56150273980893, 670.090803936153), (289.5327226747863, -192.77443042712775, -509.1102136164627)], (289.5327226747863, -192.77443042712775, -509.1102136164627): [(-848.8293575314588, -299.9093521832334, -550.0538897422975), (704.6402576341982, -946.8862813365921, 870.8721499781527), (907.4825483834, 295.312395482734, -644.4567607566523)], (-585.7479379526828, -435.56150273980893, 670.090803936153): [(-848.8293575314588, -299.9093521832334, -550.0538897422975), (704.6402576341982, -946.8862813365921, 870.8721499781527)], (907.4825483834, 295.312395482734, -644.4567607566523): [(289.5327226747863, -192.77443042712775, -509.1102136164627), (-848.8293575314588, -299.9093521832334, -550.0538897422975)]}\n",
      "[-585.7479379526828, -435.56150273980893, 670.090803936153]\n",
      "None !!!!!!!\n",
      "([-585.7479379526828, -435.56150273980893, 670.090803936153], 0.0)\n"
     ]
    }
   ],
   "source": [
    "\n",
    "\n",
    "\n",
    "\n",
    "#l=[[1,1],[1,2],[2,3],[4,5],[5,6]]\n",
    "#print(m_neighbours([1,2],l))\n",
    "\n",
    "\n",
    "print(graph)\n",
    "print(closest_pt(graph,result_matrix,[-585.7479379526828, -435.56150273980893, 670.090803936153]))\n"
   ]
  }
 ],
 "metadata": {
  "kernelspec": {
   "display_name": "Python 3",
   "language": "python",
   "name": "python3"
  },
  "language_info": {
   "codemirror_mode": {
    "name": "ipython",
    "version": 3
   },
   "file_extension": ".py",
   "mimetype": "text/x-python",
   "name": "python",
   "nbconvert_exporter": "python",
   "pygments_lexer": "ipython3",
   "version": "3.11.3"
  }
 },
 "nbformat": 4,
 "nbformat_minor": 2
}
